{
 "cells": [
  {
   "cell_type": "code",
   "execution_count": 61,
   "metadata": {},
   "outputs": [],
   "source": [
    "import re\n",
    "from collections import Counter\n",
    "import string\n",
    "\n",
    "def tokenize(text):\n",
    "    # separate text into words, normalize to lower case\n",
    "    return re.findall('[a-z]+', text.lower().translate(str.maketrans('', '', string.punctuation))) \n",
    "\n",
    "def listngram(text, n):\n",
    "    s = tokenize(open(text).read())\n",
    "    return zip(*[s[i:] for i in range(n)])\n",
    "\n",
    "def countngram(text, n):\n",
    "    return Counter(list(listngram(text, n)))\n",
    "\n",
    "def commongram(ngrams):\n",
    "    c = []\n",
    "    for e in ngrams:\n",
    "        if(e[0] == \"in\" and e[1] == \"the\"):\n",
    "            c.append([e,ngrams[e]])\n",
    "\n",
    "    c.sort(key=lambda c: c[1], reverse=True)\n",
    "    # prints most common ngrams with matching params\n",
    "    for a in c:\n",
    "        print(a)\n",
    "    \n",
    "\n"
   ]
  },
  {
   "cell_type": "code",
   "execution_count": 64,
   "metadata": {},
   "outputs": [
    {
     "name": "stdout",
     "output_type": "stream",
     "text": [
      "Counter({('read', 'a'): 2, ('john', 'read'): 1, ('read', 'moby'): 1, ('moby', 'dick'): 1, ('dick', 'mary'): 1, ('mary', 'read'): 1, ('a', 'different'): 1, ('different', 'book'): 1, ('book', 'she'): 1, ('she', 'read'): 1, ('a', 'book'): 1, ('book', 'by'): 1, ('by', 'cher'): 1})\n"
     ]
    }
   ],
   "source": [
    "ngrams = []\n",
    "n = 2\n",
    "\n",
    "ngrams = countngram(\"maryj.txt\", n)\n",
    "\n",
    "# commongram(ngrams)\n",
    "\n",
    "# with open('brown' + str(n) + 'gram.txt', 'w') as f:\n",
    "#     f.write(\"\\n\".join(str(item) for item in ngrams))\n"
   ]
  },
  {
   "cell_type": "code",
   "execution_count": null,
   "metadata": {},
   "outputs": [],
   "source": []
  }
 ],
 "metadata": {
  "kernelspec": {
   "display_name": "Python 3",
   "language": "python",
   "name": "python3"
  },
  "language_info": {
   "codemirror_mode": {
    "name": "ipython",
    "version": 3
   },
   "file_extension": ".py",
   "mimetype": "text/x-python",
   "name": "python",
   "nbconvert_exporter": "python",
   "pygments_lexer": "ipython3",
   "version": "3.7.6"
  }
 },
 "nbformat": 4,
 "nbformat_minor": 4
}
