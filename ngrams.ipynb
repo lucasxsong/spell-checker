{
 "cells": [
  {
   "cell_type": "code",
   "execution_count": 16,
   "metadata": {},
   "outputs": [],
   "source": [
    "import re\n",
    "from collections import Counter\n",
    "import string\n",
    "\n",
    "def tokenize(text):\n",
    "    # separate text into words, normalize to lower case\n",
    "    return re.findall('[a-z]+', text.lower()) \n",
    "\n",
    "def listngram(text, n):\n",
    "    s = tokenize(open(text).read())\n",
    "    return zip(*[s[i:] for i in range(n)])\n",
    "\n",
    "def countngram(x):\n",
    "    return sorted(Counter(list(a)))\n",
    "    \n",
    "\n"
   ]
  },
  {
   "cell_type": "code",
   "execution_count": 17,
   "metadata": {},
   "outputs": [
    {
     "name": "stdout",
     "output_type": "stream",
     "text": [
      "[('adabtable', 'caned', 'canned'), ('adaptable', 'adabtable', 'caned'), ('aggression', 'agression', 'looking'), ('agression', 'looking', 'loking'), ('appropriation', 'apropriation', 'fur'), ('apropriation', 'fur', 'furr'), ('begining', 'luing', 'look'), ('cained', 'immature', 'imature'), ('caned', 'canned', 'cained'), ('canned', 'cained', 'immature'), ('desturb', 'recollections', 'reclections'), ('disparagingly', 'disparingly', 'yellow'), ('disparingly', 'yellow', 'yello'), ('distrebe', 'desturb', 'recollections'), ('disturb', 'distrebe', 'desturb'), ('electricity', 'electrisity', 'electricty'), ('electricty', 'electrizity', 'scold'), ('electrisity', 'electricty', 'electrizity'), ('electrizity', 'scold', 'schold'), ('elegable', 'eligable', 'electricity'), ('eligable', 'electricity', 'electrisity'), ('eligble', 'elegable', 'eligable'), ('eligible', 'eligble', 'elegable'), ('fer', 'stabbed', 'stabed'), ('for', 'woods', 'woodes'), ('fore', 'for', 'woods'), ('forer', 'fours', 'fuore'), ('four', 'forer', 'fours'), ('fours', 'fuore', 'fore'), ('fuore', 'fore', 'for'), ('fur', 'furr', 'fer'), ('furr', 'fer', 'stabbed'), ('haing', 'aggression', 'agression'), ('hanging', 'haing', 'aggression'), ('imature', 'shouldn', 't'), ('immature', 'imature', 'shouldn'), ('liking', 'eligible', 'eligble'), ('locking', 'lucking', 'louk'), ('loking', 'begining', 'luing'), ('looing', 'lookin', 'liking'), ('look', 'locking', 'lucking'), ('lookin', 'liking', 'eligible'), ('looking', 'loking', 'begining'), ('louk', 'looing', 'lookin'), ('lucking', 'louk', 'looing'), ('luing', 'look', 'locking'), ('prize', 'prise', 'prizer'), ('rainning', 'raning', 'writtings'), ('raning', 'writtings', 'disparagingly'), ('reclections', 'recolections', 'prize'), ('recolections', 'prize', 'prise'), ('recollections', 'reclections', 'recolections'), ('schold', 'skold', 'adaptable'), ('scold', 'schold', 'skold'), ('shoudln', 'shouldnt', 'swivel'), ('shouldn', 't', 'shoudln'), ('shouldnt', 'swivel', 'swival'), ('skold', 'adaptable', 'adabtable'), ('southwold', 'suothwode', 'disturb'), ('stabbed', 'stabed', 'southwold'), ('stabed', 'southwold', 'suothwode'), ('suothwode', 'disturb', 'distrebe'), ('swival', 'appropriation', 'apropriation'), ('swivel', 'swival', 'appropriation'), ('t', 'shoudln', 'shouldnt'), ('woodes', 'hanging', 'haing'), ('woods', 'woodes', 'hanging'), ('writtings', 'disparagingly', 'disparingly'), ('yello', 'four', 'forer'), ('yellow', 'yello', 'four')]\n"
     ]
    }
   ],
   "source": [
    "a = []\n",
    "\n",
    "a = listngram(\"input.txt\", 3)\n",
    "\n",
    "a = list(a)\n",
    "b = countngram(a)\n",
    "print(b)\n"
   ]
  },
  {
   "cell_type": "code",
   "execution_count": null,
   "metadata": {},
   "outputs": [],
   "source": [
    "pr"
   ]
  }
 ],
 "metadata": {
  "kernelspec": {
   "display_name": "Python 3",
   "language": "python",
   "name": "python3"
  },
  "language_info": {
   "codemirror_mode": {
    "name": "ipython",
    "version": 3
   },
   "file_extension": ".py",
   "mimetype": "text/x-python",
   "name": "python",
   "nbconvert_exporter": "python",
   "pygments_lexer": "ipython3",
   "version": "3.7.6"
  }
 },
 "nbformat": 4,
 "nbformat_minor": 4
}
