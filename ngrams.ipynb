{
 "cells": [
  {
   "cell_type": "code",
   "execution_count": 176,
   "metadata": {},
   "outputs": [],
   "source": [
    "import re\n",
    "from collections import Counter\n",
    "import string\n",
    "\n",
    "def tokenize(text):\n",
    "    # separate text into words, normalize to lower case\n",
    "    return re.findall('[a-z]+', text.lower().translate(str.maketrans('', '', string.punctuation))) \n",
    "\n",
    "def listngram(text, n, f):\n",
    "    if (f): \n",
    "        # file passed in\n",
    "        s = tokenize(open(text).read())\n",
    "    else: \n",
    "        # string passed in\n",
    "        s = tokenize(text)\n",
    "    return zip(*[s[i:] for i in range(n)])\n",
    "\n",
    "def countngram(text, n):\n",
    "    return Counter(list(listngram(text, n, 1)))\n",
    "\n",
    "def commongram(ngrams):\n",
    "    c = []\n",
    "    for e in ngrams:\n",
    "        if(e[0] == \"in\" and e[1] == \"the\"):\n",
    "            c.append([e,ngrams[e]])\n",
    "\n",
    "    c.sort(key=lambda c: c[1], reverse=True)\n",
    "    # prints most common ngrams with matching params\n",
    "    for a in c:\n",
    "        print(a)"
   ]
  },
  {
   "cell_type": "code",
   "execution_count": 210,
   "metadata": {},
   "outputs": [],
   "source": [
    "# f = 0, text f = 1, file\n",
    "# [bi]gram reference\n",
    "# [uni]gram reference\n",
    "# smooth = 0, no smoothening smooth = 1, add 1 smoothening\n",
    "def prob(text, n, f, bi, uni, smooth):\n",
    "    finalprob = 1\n",
    "    for p in list(listngram(text, n, f)):\n",
    "        finalprob *= calcprob(p, bi, uni, smooth) \n",
    "        \n",
    "    return finalprob\n",
    "    \n",
    "def calcprob(p, bi, uni, smooth):\n",
    "    bottom = uni[(p[0],)] + smooth\n",
    "    top = bi[(p)] + 1\n",
    "\n",
    "    return top /bottom if bottom else 0"
   ]
  },
  {
   "cell_type": "code",
   "execution_count": 211,
   "metadata": {},
   "outputs": [
    {
     "name": "stdout",
     "output_type": "stream",
     "text": [
      "0.0625\n"
     ]
    }
   ],
   "source": [
    "ngrams = []\n",
    "n = 2\n",
    "\n",
    "bigrams = countngram(\"maryj.txt\", 2)\n",
    "unigrams = countngram(\"maryj.txt\", 1)\n",
    "    \n",
    "# input string\n",
    "text = \"{S} CHER READ MOBY DICK {E}\"\n",
    "\n",
    "i = []\n",
    "i = prob(text, 2, 0, bigrams, unigrams, 1)\n",
    "\n",
    "print(i)\n",
    "\n",
    "\n",
    "# commongram(ngrams)\n",
    "\n",
    "# with open('brown' + str(n) + 'gram.txt', 'w') as f:\n",
    "#     f.write(\"\\n\".join(str(item) for item in ngrams))\n"
   ]
  },
  {
   "cell_type": "code",
   "execution_count": null,
   "metadata": {},
   "outputs": [],
   "source": []
  }
 ],
 "metadata": {
  "kernelspec": {
   "display_name": "Python 3",
   "language": "python",
   "name": "python3"
  },
  "language_info": {
   "codemirror_mode": {
    "name": "ipython",
    "version": 3
   },
   "file_extension": ".py",
   "mimetype": "text/x-python",
   "name": "python",
   "nbconvert_exporter": "python",
   "pygments_lexer": "ipython3",
   "version": "3.7.6"
  }
 },
 "nbformat": 4,
 "nbformat_minor": 4
}
