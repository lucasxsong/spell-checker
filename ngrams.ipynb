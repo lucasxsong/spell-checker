{
 "cells": [
  {
   "cell_type": "code",
   "execution_count": 176,
   "metadata": {},
   "outputs": [],
   "source": [
    "import re\n",
    "from collections import Counter\n",
    "import string\n",
    "\n",
    "def tokenize(text):\n",
    "    # separate text into words, normalize to lower case\n",
    "    return re.findall('[a-z]+', text.lower().translate(str.maketrans('', '', string.punctuation))) \n",
    "\n",
    "def listngram(text, n, f):\n",
    "    if (f): \n",
    "        # file passed in\n",
    "        s = tokenize(open(text).read())\n",
    "    else: \n",
    "        # string passed in\n",
    "        s = tokenize(text)\n",
    "    return zip(*[s[i:] for i in range(n)])\n",
    "\n",
    "def countngram(text, n):\n",
    "    return Counter(list(listngram(text, n, 1)))\n",
    "\n",
    "def commongram(ngrams):\n",
    "    c = []\n",
    "    for e in ngrams:\n",
    "        if(e[0] == \"in\" and e[1] == \"the\"):\n",
    "            c.append([e,ngrams[e]])\n",
    "\n",
    "    c.sort(key=lambda c: c[1], reverse=True)\n",
    "    # prints most common ngrams with matching params\n",
    "    for a in c:\n",
    "        print(a)"
   ]
  },
  {
   "cell_type": "code",
   "execution_count": 180,
   "metadata": {},
   "outputs": [],
   "source": [
    "def totalprob(s, n, f, bi, uni):\n",
    "    finalprob = 1\n",
    "    \n",
    "    for p in list(listngram(s, n, f)):\n",
    "        finalprob *= calcprob(p, bi, uni)\n",
    "        \n",
    "        \n",
    "    return finalprob\n",
    "    \n",
    "    \n",
    "def calcprob(p, bi, uni):\n",
    "    bottom = uni[(p[0],)]\n",
    "    top = bi[(p)]\n",
    "\n",
    "    return top/bottom if bottom else 0"
   ]
  },
  {
   "cell_type": "code",
   "execution_count": 186,
   "metadata": {},
   "outputs": [
    {
     "name": "stdout",
     "output_type": "stream",
     "text": [
      "0.3333333333333333\n",
      "1.0\n",
      "0.6666666666666666\n",
      "0.5\n",
      "0.5\n",
      "1.0\n",
      "1.0\n",
      "0.05555555555555555\n"
     ]
    }
   ],
   "source": [
    "ngrams = []\n",
    "n = 2\n",
    "\n",
    "bigrams = countngram(\"maryj.txt\", 2)\n",
    "unigrams = countngram(\"maryj.txt\", 1)\n",
    "    \n",
    "# input string\n",
    "s = \"{S} MARY READ A BOOK BY CHER {E}\"\n",
    "\n",
    "i = []\n",
    "i = totalprob(s, 2, 0, bigrams, unigrams)\n",
    "\n",
    "print(i)\n",
    "\n",
    "\n",
    "\n",
    "\n",
    "# commongram(ngrams)\n",
    "\n",
    "# with open('brown' + str(n) + 'gram.txt', 'w') as f:\n",
    "#     f.write(\"\\n\".join(str(item) for item in ngrams))\n"
   ]
  },
  {
   "cell_type": "code",
   "execution_count": null,
   "metadata": {},
   "outputs": [],
   "source": []
  }
 ],
 "metadata": {
  "kernelspec": {
   "display_name": "Python 3",
   "language": "python",
   "name": "python3"
  },
  "language_info": {
   "codemirror_mode": {
    "name": "ipython",
    "version": 3
   },
   "file_extension": ".py",
   "mimetype": "text/x-python",
   "name": "python",
   "nbconvert_exporter": "python",
   "pygments_lexer": "ipython3",
   "version": "3.7.6"
  }
 },
 "nbformat": 4,
 "nbformat_minor": 4
}
