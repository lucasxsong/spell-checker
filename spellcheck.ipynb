{
 "cells": [
  {
   "cell_type": "code",
   "execution_count": null,
   "metadata": {},
   "outputs": [],
   "source": []
  },
  {
   "cell_type": "code",
   "execution_count": 165,
   "metadata": {},
   "outputs": [],
   "source": [
    "import re\n",
    "from collections import Counter\n",
    "import string\n",
    "\n",
    "def words(text): return re.findall(r'\\w+', text.lower())\n",
    "\n",
    "WORDS = Counter(words(open('big.txt').read()))\n",
    "\n",
    "def P(word, N=sum(WORDS.values())): \n",
    "    # find prob of word\n",
    "    return WORDS[word] / N\n",
    "\n",
    "def candidates(word): \n",
    "    # generates set of all candidates from word \n",
    "    candidates = known([word]) or known(edits1(word)) or known(edits2(word)) or [word]\n",
    "    return candidates\n",
    "#     return (known([word]) or known(edits1(word)) or [word])\n",
    "\n",
    "def known(words): \n",
    "    \"The subset of `words` that appear in the dictionary of WORDS.\"\n",
    "    return set(w for w in words if w in WORDS)\n",
    "\n",
    "def edits1(word):\n",
    "    \"All edits that are one edit away from `word`.\"\n",
    "    letters    = 'abcdefghijklmnopqrstuvwxyz'\n",
    "    splits     = [(word[:i], word[i:])    for i in range(len(word) + 1)]\n",
    "    deletes    = [L + R[1:]               for L, R in splits if R]\n",
    "    transposes = [L + R[1] + R[0] + R[2:] for L, R in splits if len(R)>1]\n",
    "    replaces   = [L + c + R[1:]           for L, R in splits if R for c in letters]\n",
    "    inserts    = [L + c + R               for L, R in splits for c in letters]\n",
    "    return set(deletes + transposes + replaces + inserts)\n",
    "\n",
    "def edits2(word): \n",
    "    # two edits away from word\n",
    "    return (e2 for e1 in edits1(word) for e2 in edits1(e1))\n",
    "\n",
    "def clean(i):\n",
    "    # change all words to lower and remove punctuation\n",
    "    return i.lower().translate(str.maketrans('', '', string.punctuation)) ;\n",
    "\n",
    "def corrections(word): \n",
    "    \"Most probable spelling correction for word.\"\n",
    "    if len(candidates(word)) > 1:\n",
    "        return sorted(candidates(word), key=P, reverse=True)"
   ]
  },
  {
   "cell_type": "code",
   "execution_count": 166,
   "metadata": {},
   "outputs": [
    {
     "name": "stdout",
     "output_type": "stream",
     "text": [
      "ll : None\n",
      "edits : ['edit', 'edith']\n",
      "that : None\n",
      "are : None\n",
      "one : None\n",
      "edit : None\n",
      "away : None\n",
      "from : None\n",
      "helo : ['held', 'help', 'hero', 'hell', 'halo', 'helm', 'hello']\n",
      "dave : None\n",
      "areyou : None\n",
      "having : None\n",
      "a : None\n",
      "goode : ['good', 'goods', 'goose', 'goodge']\n",
      "day : None\n",
      "airth : ['birth', 'girth', 'mirth']\n"
     ]
    }
   ],
   "source": [
    "### driver code ###\n",
    "a = \"ll edits that are one edit away from Helo, Dave. Areyou having a goode day? airth\".split(' ')\n",
    "# a = \"goode Dave Helo eart its me the postman\".split(' ')\n",
    "\n",
    "# grams2(words)\n",
    "\n",
    "for i in a:\n",
    "    i = clean(i)\n",
    "#     if i not in known(i):\n",
    "    print(i,':', corrections(i))\n",
    "    \n",
    "txt = open('big.txt').read()\n",
    "# words1 = re.findall(r'[A-Za-z]+', txt)\n",
    "# bigrams = zip(words1, words1[1:])\n",
    "# counts = Counter(bigrams)\n",
    "# print(counts.most_common())\n",
    "\n"
   ]
  },
  {
   "cell_type": "code",
   "execution_count": null,
   "metadata": {},
   "outputs": [],
   "source": []
  }
 ],
 "metadata": {
  "kernelspec": {
   "display_name": "Python 3",
   "language": "python",
   "name": "python3"
  },
  "language_info": {
   "codemirror_mode": {
    "name": "ipython",
    "version": 3
   },
   "file_extension": ".py",
   "mimetype": "text/x-python",
   "name": "python",
   "nbconvert_exporter": "python",
   "pygments_lexer": "ipython3",
   "version": "3.7.6"
  }
 },
 "nbformat": 4,
 "nbformat_minor": 4
}
